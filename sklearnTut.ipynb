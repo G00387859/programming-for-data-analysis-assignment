{
 "cells": [
  {
   "cell_type": "code",
   "execution_count": 1,
   "metadata": {},
   "outputs": [],
   "source": [
    "import pandas as pd"
   ]
  },
  {
   "cell_type": "code",
   "execution_count": 4,
   "metadata": {},
   "outputs": [],
   "source": [
    "data = pd.read_html(\"https://raw.githubusercontent.com/ianmcloughlin/jupyter-teaching-notebooks/master/knn-iris.ipynb\")"
   ]
  },
  {
   "cell_type": "code",
   "execution_count": 5,
   "metadata": {},
   "outputs": [
    {
     "data": {
      "text/plain": [
       "[   Unnamed: 0 sepal_length sepal_width petal_length petal_width      class\n",
       " 0           0          5.1         3.5          1.4         0.2     setosa\n",
       " 1           1          4.9         3.0          1.4         0.2     setosa\n",
       " 2           2          4.7         3.2          1.3         0.2     setosa\n",
       " 3           3          4.6         3.1          1.5         0.2     setosa\n",
       " 4           4          5.0         3.6          1.4         0.2     setosa\n",
       " 5         ...          ...         ...          ...         ...        ...\n",
       " 6         145          6.7         3.0          5.2         2.3  virginica\n",
       " 7         146          6.3         2.5          5.0         1.9  virginica\n",
       " 8         147          6.5         3.0          5.2         2.0  virginica\n",
       " 9         148          6.2         3.4          5.4         2.3  virginica\n",
       " 10        149          5.9         3.0          5.1         1.8  virginica]"
      ]
     },
     "execution_count": 5,
     "metadata": {},
     "output_type": "execute_result"
    }
   ],
   "source": [
    "data"
   ]
  },
  {
   "cell_type": "code",
   "execution_count": null,
   "metadata": {},
   "outputs": [],
   "source": []
  }
 ],
 "metadata": {
  "kernelspec": {
   "display_name": "Python 3",
   "language": "python",
   "name": "python3"
  },
  "language_info": {
   "codemirror_mode": {
    "name": "ipython",
    "version": 3
   },
   "file_extension": ".py",
   "mimetype": "text/x-python",
   "name": "python",
   "nbconvert_exporter": "python",
   "pygments_lexer": "ipython3",
   "version": "3.8.5"
  }
 },
 "nbformat": 4,
 "nbformat_minor": 4
}
