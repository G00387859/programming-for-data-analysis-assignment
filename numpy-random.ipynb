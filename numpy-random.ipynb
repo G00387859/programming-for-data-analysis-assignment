{
 "cells": [
  {
   "cell_type": "markdown",
   "metadata": {},
   "source": [
    "\n",
    "# The numpy.random package\n",
    "![Numpy logo](https://numpy.org/doc/stable/_static/numpy_logo.png)"
   ]
  },
  {
   "cell_type": "markdown",
   "metadata": {},
   "source": [
    "## Introduction\n",
    "This report will general overview of the Numpy package but will focus on the numpy.random package. \n",
    "### 1. What is numpy.<br />\n",
    "NumPy is a library for the Python for sciencetific computing used for working with arrays.<br /> Adding support for large, multi-dimensional arrays and matrices, along with a large collection of high-level mathematical functions to operate on these arrays. NumPy arrays are stored at one continuous place in memory unlike lists, so processes can access and manipulate them very efficiently.\n",
    "The core functionality of NumPy is its \"ndarray\", for n-dimensional array, data structure."
   ]
  },
  {
   "cell_type": "markdown",
   "metadata": {},
   "source": [
    "### 2. Numpy vs List https://www.geeksforgeeks.org/python-lists-vs-numpy-arrays/\n",
    "#### List:<br/>\n",
    "A List is a member of a collection which is ordered and changeable. Allowing duplicate members. Also contained in the collection is  Tuple, set and Dictionary. A single list may contain DataTypes like Integers, Strings, as well as Objects. Lists are mutable, and hence, they can be altered even after their creation.\n",
    "List in Python are ordered and have a definite count. The elements in a list are indexed according to a definite sequence and the indexing of a list is done with 0 being the first index. Each element in the list has its definite place in the list, which allows duplicating of elements in the list, with each element having its own distinct place and credibility.\n",
    "\n",
    "Note- Lists are a useful tool for preserving a sequence of data and further iterating over it.\n"
   ]
  },
  {
   "cell_type": "code",
   "execution_count": 5,
   "metadata": {},
   "outputs": [
    {
     "name": "stdout",
     "output_type": "stream",
     "text": [
      "['kiwi', 'tomatoes', 'grapes', 'apple', 'banana', 'cherry']\n"
     ]
    }
   ],
   "source": [
    "stringlist = [\"kiwi\",\"tomatoes\",\"grapes\",\"apple\", \"banana\", \"cherry\"]\n",
    "print(stringlist)"
   ]
  },
  {
   "cell_type": "code",
   "execution_count": 7,
   "metadata": {},
   "outputs": [
    {
     "name": "stdout",
     "output_type": "stream",
     "text": [
      "[1, 2, 3, 4, 5]\n"
     ]
    }
   ],
   "source": [
    "numberlist = [1,2,3,4,5]\n",
    "print(numberlist)"
   ]
  },
  {
   "cell_type": "code",
   "execution_count": 12,
   "metadata": {},
   "outputs": [
    {
     "name": "stdout",
     "output_type": "stream",
     "text": [
      "[[1, 2, 3, 4, 5], [6, 7, 8, 9, 10]]\n",
      "list array position 0  [1, 2, 3, 4, 5]\n",
      "list array position 1  [6, 7, 8, 9, 10]\n"
     ]
    }
   ],
   "source": [
    "mulitDimentional = [[1,2,3,4,5],[6,7,8,9,10]]\n",
    "print(mulitDimentional)\n",
    "print(\"list array position 0 \", mulitDimentional[0])\n",
    "print(\"list array position 1 \", mulitDimentional[1])\n"
   ]
  },
  {
   "cell_type": "code",
   "execution_count": null,
   "metadata": {},
   "outputs": [],
   "source": [
    "List append, push , pop looping"
   ]
  },
  {
   "cell_type": "markdown",
   "metadata": {},
   "source": [
    "### Numpy:\n",
    "This libary in python is used to work with arrays. The difference between Numpy will aim to provide a array object that is up to 50 times faster that a Python list. https://www.w3schools.com/python/numpy_intro.asp\n",
    "This is because numpy arrays are stored at one continous place in memory unlike lists, so process can access and manipulate then very efficiently called locality."
   ]
  },
  {
   "cell_type": "code",
   "execution_count": 8,
   "metadata": {},
   "outputs": [
    {
     "name": "stdout",
     "output_type": "stream",
     "text": [
      "[1 2 3 4 5]\n"
     ]
    }
   ],
   "source": [
    "import numpy as np\n",
    "intArr = np.array([1,2,3,4,5])\n",
    "print(intArr)"
   ]
  },
  {
   "cell_type": "code",
   "execution_count": null,
   "metadata": {},
   "outputs": [],
   "source": [
    "Numpy has many functions that allow the mulipation of arrays. This report will concantrate on numpy. \n",
    "https://numpy.org/doc/stable/reference/random/index.html "
   ]
  },
  {
   "cell_type": "code",
   "execution_count": null,
   "metadata": {},
   "outputs": [],
   "source": [
    "Numpy operations \n",
    "Numpy special functions"
   ]
  },
  {
   "cell_type": "markdown",
   "metadata": {},
   "source": [
    "## Body. The Task\n",
    "assignment concerns the numpy.random package in Python .\n",
    "You are required to create a Jupyter [5] notebook explaining the use of the package, including detailed explanations of at least five of the distributions provided for in the package.\n",
    "There are four distinct tasks to be carried out in your Jupyter notebook"
   ]
  },
  {
   "cell_type": "markdown",
   "metadata": {},
   "source": [
    "\n",
    "### Exploring the quick start\n",
    "#### 1. Explain the overall purpose of the package.\n",
    "Pseudo Random : Random numbers in a computer are generated by anlogrithm This which really means that its not truly random.\n",
    "THe python random uses Random Sampling to produce psoudo random generation combining combinations of a BitGenerator and a Generator. \n",
    "Bit Generator: use to create sequences. Objects that generate random numbers. These are typically unsigned integer words filled with sequences of either 32 or 64 random bits. The BitGenerator has a limited set of responsibilities. It manages state and provides functions to produce random doubles and random unsigned 32- and 64-bit values.https://numpy.org/doc/stable/reference/random/index.html\n",
    "Generator: Objects that transform sequences of random bits from a BitGenerator into sequences of numbers that follow a specific probability distribution (such as uniform, Normal or Binomial) within a specified interval.The Generator is the user-facing object that is nearly identical to RandomState. The canonical method to initialize a generator passes a PCG64 bit generator as the sole argument..https://numpy.org/doc/stable/reference/random/index.html<br/>\n",
    "The random module Mersene Twister PRNG algorithm. \n",
    "https://realpython.com/python-random/\n",
    "\n",
    "Methods of the random package include\n",
    "rand() : this is for floating point number returns floats  between 0 and 1 but not including 1.\n",
    "randInt()\n",
    "choice()\n",
    "\n",
    "\n",
    "\n",
    "\n",
    "\n"
   ]
  },
  {
   "cell_type": "markdown",
   "metadata": {},
   "source": [
    "### Simple random data"
   ]
  },
  {
   "cell_type": "code",
   "execution_count": 18,
   "metadata": {},
   "outputs": [
    {
     "name": "stdout",
     "output_type": "stream",
     "text": [
      "0.44058401677354575\n"
     ]
    }
   ],
   "source": [
    "#simple random float generator betewwn 0 and 1 \n",
    "# but not including 1\n",
    "rna = np.random.rand()\n",
    "print(rna)"
   ]
  },
  {
   "cell_type": "code",
   "execution_count": 19,
   "metadata": {},
   "outputs": [
    {
     "name": "stdout",
     "output_type": "stream",
     "text": [
      "[0.91799087 0.1013598  0.48574505 0.46000445 0.76401322]\n"
     ]
    }
   ],
   "source": [
    "# 2nd simple random float generator \n",
    "# this returns a array of 5 random numbers between 0 and 1\n",
    "# not including 1\n",
    "rna = np.random.rand(5)\n",
    "print(rna)\n"
   ]
  },
  {
   "cell_type": "code",
   "execution_count": 20,
   "metadata": {},
   "outputs": [
    {
     "name": "stdout",
     "output_type": "stream",
     "text": [
      "[[0.60502595 0.59540735 0.59537842 0.05634594]\n",
      " [0.13520922 0.26923027 0.93301576 0.10751333]\n",
      " [0.70971171 0.06161398 0.15403542 0.68675241]]\n"
     ]
    }
   ],
   "source": [
    "# 3rd 2d array of float numbers between 0 and 1 \n",
    "# not including 1 with 4 coloums and 3 rows\n",
    "rna = np.random.rand(3,4)\n",
    "print(rna)"
   ]
  },
  {
   "cell_type": "markdown",
   "metadata": {},
   "source": [
    "##### randInt()"
   ]
  },
  {
   "cell_type": "code",
   "execution_count": 22,
   "metadata": {},
   "outputs": [
    {
     "name": "stdout",
     "output_type": "stream",
     "text": [
      "53\n"
     ]
    }
   ],
   "source": [
    "# creates a randdom whole integer number \n",
    "# between 1 and 100 but does not include 100\n",
    "rns = np.random.randint(100)\n",
    "print(rns)"
   ]
  },
  {
   "cell_type": "code",
   "execution_count": 23,
   "metadata": {},
   "outputs": [
    {
     "name": "stdout",
     "output_type": "stream",
     "text": [
      "626\n"
     ]
    }
   ],
   "source": [
    "# creates a randdom whole integer number \n",
    "# between 1 and 100 but does not include 1000\n",
    "rns = np.random.randint(1000)\n",
    "print(rns)"
   ]
  },
  {
   "cell_type": "code",
   "execution_count": 25,
   "metadata": {},
   "outputs": [
    {
     "name": "stdout",
     "output_type": "stream",
     "text": [
      "[[57 90 43 90]\n",
      " [12 60 96  7]\n",
      " [17  9 64 86]]\n"
     ]
    }
   ],
   "source": [
    "# creates a 2d randdom whole integer number \n",
    "# between 1 and 100 but does not include 100\n",
    "# this uses the size functon that gives 3 rows and 4 coloums\n",
    "rns = np.random.randint(100, size=(3,4))\n",
    "print(rns)"
   ]
  },
  {
   "cell_type": "markdown",
   "metadata": {},
   "source": [
    "#### Choice()  this method will generate a random value based on a array of values."
   ]
  },
  {
   "cell_type": "code",
   "execution_count": 34,
   "metadata": {},
   "outputs": [
    {
     "name": "stdout",
     "output_type": "stream",
     "text": [
      "2\n"
     ]
    }
   ],
   "source": [
    "# choice will pick a value from the passed array\n",
    "rns = np.random.choice([3,5,6,2])\n",
    "print(rns)"
   ]
  },
  {
   "cell_type": "code",
   "execution_count": 36,
   "metadata": {},
   "outputs": [
    {
     "name": "stdout",
     "output_type": "stream",
     "text": [
      "[[6 6 2 6]\n",
      " [3 2 2 6]\n",
      " [5 2 3 5]]\n"
     ]
    }
   ],
   "source": [
    "# 2d choice will return a randomly generated 2d array \n",
    "# based on the values passed\n",
    "# of size 3 row and 4 columns \n",
    "rns = np.random.choice([3,5,6,2], size=(3,4))\n",
    "print(rns)"
   ]
  },
  {
   "cell_type": "markdown",
   "metadata": {},
   "source": [
    "### Permutation"
   ]
  },
  {
   "cell_type": "markdown",
   "metadata": {},
   "source": [
    "Permutation the re-ordering of elements in a list.\n",
    "https://www.geeksforgeeks.org/python-permutation-given-string-using-inbuilt-function/ \n",
    "\n",
    "https://numpy.org/doc/stable/reference/random/generated/numpy.random.permutation.html?highlight=permutation#numpy.random.permutation\n",
    "\n",
    "https://www.w3schools.com/python/numpy_random_permutation.asp"
   ]
  },
  {
   "cell_type": "markdown",
   "metadata": {},
   "source": []
  },
  {
   "cell_type": "code",
   "execution_count": 45,
   "metadata": {},
   "outputs": [
    {
     "name": "stdout",
     "output_type": "stream",
     "text": [
      "[1 4 3 7 8 6 2 5 9]\n"
     ]
    }
   ],
   "source": [
    "#The permutation() method returns a re-arranged array \n",
    "#(and leaves the original array un-changed).\n",
    "arr = np.array([1,2,3,4,5,6,7,8,9])\n",
    "per = np.random.permutation(arr)\n",
    "print(per)"
   ]
  },
  {
   "cell_type": "code",
   "execution_count": 49,
   "metadata": {},
   "outputs": [
    {
     "name": "stdout",
     "output_type": "stream",
     "text": [
      "Random arrary using choice\n",
      "[[2 3 5 6]\n",
      " [5 5 6 5]\n",
      " [6 6 6 6]]\n",
      "The create random  arrray with permutation\n",
      "[[5 5 6 5]\n",
      " [6 6 6 6]\n",
      " [2 3 5 6]]\n"
     ]
    }
   ],
   "source": [
    "# using random multidementional arrays and permuation to generate a \n",
    "# random mulitdementional array. should be some math calculation \n",
    "# to determine the actual psedo randomness of the generated array....??? \n",
    "print(\"Random arrary using choice\")\n",
    "rns = np.random.choice([3,5,6,2], size=(3,4))\n",
    "print(rns)\n",
    "print(\"The create random  arrray with permutation\")\n",
    "per = np.random.permutation(rns)\n",
    "print(per)"
   ]
  },
  {
   "cell_type": "markdown",
   "metadata": {},
   "source": [
    "### The use and purpose of at least five “Distributions” functions."
   ]
  },
  {
   "cell_type": "markdown",
   "metadata": {},
   "source": [
    "In this section the investigation will focus on the five most common Distrubution, uniform, ???, ???, ??? and ???. \n",
    "Whar ia distribution ? \n",
    "Contionus? \n",
    "Discreet? \n",
    "\n",
    "\n",
    "The Probability density Function(PDF) is used to specify the probability of the random variable falling within a particular range of values, as opposed to taking on any one value. https://en.wikipedia.org/wiki/Probability_density_function#:~:text=In%20probability%20theory%2C%20a%20probability,that%20the%20value%20of%20the\n",
    " \n",
    " "
   ]
  },
  {
   "cell_type": "markdown",
   "metadata": {},
   "source": [
    "#### Uniform Distribution"
   ]
  },
  {
   "cell_type": "markdown",
   "metadata": {},
   "source": [
    "This is the simples distribution functions and is continuos. \n",
    "![uniform Dist](https://res.cloudinary.com/dyd911kmh/image/upload/f_auto,q_auto:best/v1539784816/output_5_0_f453qp.png)\n",
    "Since any interval of numbers of equal width has an equal probability of being observed, the curve will be a rectangle. The height is set to f(x) = 1/(b−a).  This is because the constant height across the interval and 0 height elsewhere. Since the area under the curve must be equal to 1, the length of the interval determines the height of the curve. The following figure ?? shows a uniform distribution in interval (a,b). Notice since the area needs to be 1. The height is set to ."
   ]
  },
  {
   "cell_type": "code",
   "execution_count": 72,
   "metadata": {},
   "outputs": [
    {
     "data": {
      "text/plain": [
       "[Text(0, 0.5, 'Frequency'), Text(0.5, 0, 'Uniform Distribution ')]"
      ]
     },
     "execution_count": 72,
     "metadata": {},
     "output_type": "execute_result"
    },
    {
     "data": {
      "image/png": "[encoded data removed]",
      "text/plain": [
       "<Figure size 432x288 with 1 Axes>"
      ]
     },
     "metadata": {
      "needs_background": "light"
     },
     "output_type": "display_data"
    }
   ],
   "source": [
    "# import uniform distribution\n",
    "import scipy.stats as ss\n",
    "# Seaborn is a library that uses Matplotlib underneath to plot graphs. \n",
    "#It will be used to visualize random distributions.\n",
    "import seaborn as sns\n",
    "# random numbers from uniform distribution\n",
    "#the distribution is constant between loc and loc + scale\n",
    "#size = 10000 is number of random variates\n",
    "du = ss.uniform.rvs(size=np.random.randint(1000), loc = 30, scale=20)\n",
    "#\n",
    "ax = sns.distplot(du,bins=100,kde=True,\n",
    "                  color='skyblue',\n",
    "                  hist_kws={\"linewidth\": 10,'alpha':1})\n",
    "ax.set(xlabel='Uniform Distribution ', ylabel='Frequency')"
   ]
  },
  {
   "cell_type": "markdown",
   "metadata": {},
   "source": [
    "#### Normal Distribution\n",
    "Known Gaussiam Distribution is a bell shaped curve this shows the mean and the standard deviation. The density curve is symmertical and curved around the mean Known everywhere in data Science. https://www.datacamp.com/community/tutorials/probability-distributions-python\n",
    "For values less that 1 standard deviation away from the mean account of just over 68% of the set. While 2 standard deviations from the mean account of just over 95%. While 3 standard deviations account for just over 99& "
   ]
  },
  {
   "cell_type": "markdown",
   "metadata": {},
   "source": [
    "![normal dist](https://res.cloudinary.com/dyd911kmh/image/upload/f_auto,q_auto:best/v1539784816/output_15_0_jv4dw1.png)"
   ]
  },
  {
   "cell_type": "markdown",
   "metadata": {},
   "source": [
    "![nornal dis Curve](https://res.cloudinary.com/dyd911kmh/image/upload/f_auto,q_auto:best/v1539784816/output_17_0_rlgbfo.png)\n",
    "\n",
    "https://www.datacamp.com/community/tutorials/probability-distributions-python "
   ]
  },
  {
   "cell_type": "markdown",
   "metadata": {},
   "source": []
  },
  {
   "cell_type": "code",
   "execution_count": 73,
   "metadata": {},
   "outputs": [
    {
     "data": {
      "text/plain": [
       "[Text(0, 0.5, 'Frequency'), Text(0.5, 0, 'Normal Distribution')]"
      ]
     },
     "execution_count": 73,
     "metadata": {},
     "output_type": "execute_result"
    },
    {
     "data": {
      "image/png": "[encoded data removed]",
      "text/plain": [
       "<Figure size 432x288 with 1 Axes>"
      ]
     },
     "metadata": {
      "needs_background": "light"
     },
     "output_type": "display_data"
    }
   ],
   "source": [
    "# generate random numbers from N(0,1)\n",
    "# loc = mean\n",
    "# size = number of random variates \n",
    "data_normal = ss.norm.rvs(size=10000,loc=0,scale=1)\n",
    "# now plot\n",
    "ax = sns.distplot(data_normal,\n",
    "                  bins=100,\n",
    "                  kde=True,\n",
    "                  color='skyblue',\n",
    "                  hist_kws={\"linewidth\": 15,'alpha':1})\n",
    "ax.set(xlabel='Normal Distribution', ylabel='Frequency')"
   ]
  },
  {
   "cell_type": "markdown",
   "metadata": {},
   "source": [
    "#### Poisson Distribution\n",
    "Used to model the number of times an event occurs.<br/> \n",
    "lambda = the event rate.<br/>\n",
    "mu = rate at which the event happens.<br/>\n",
    "k = the probability of observing  k events in a interval..<br/> \n",
    "equation:.<br/>\n",
    "![Poisson Distribution](https://res.cloudinary.com/dyd911kmh/image/upload/f_auto,q_auto:best/v1539784818/output_39_0_knqrjh.png)\n",
    "lambda will tend to head towards inifinity <br/>\n",
    "![typical PD](https://res.cloudinary.com/dyd911kmh/image/upload/f_auto,q_auto:best/v1539784818/output_41_0_p5kbdc.png)"
   ]
  },
  {
   "cell_type": "code",
   "execution_count": 96,
   "metadata": {},
   "outputs": [
    {
     "data": {
      "text/plain": [
       "[Text(0, 0.5, 'Frequency'), Text(0.5, 0, 'Poisson Distribution')]"
      ]
     },
     "execution_count": 96,
     "metadata": {},
     "output_type": "execute_result"
    },
    {
     "data": {
      "image/png": "[encoded data removed]",
      "text/plain": [
       "<Figure size 432x288 with 1 Axes>"
      ]
     },
     "metadata": {
      "needs_background": "light"
     },
     "output_type": "display_data"
    }
   ],
   "source": [
    "data_poisson = ss.poisson.rvs(mu=3,size=10000)\n",
    "ax = sns.distplot(data_poisson,\n",
    "                  bins=30,\n",
    "                  #kde line Teue to add\n",
    "                  kde=False,\n",
    "                  color='skyblue',\n",
    "                  hist_kws={\"linewidth\": 15,'alpha':1})\n",
    "ax.set(xlabel='Poisson Distribution', ylabel='Frequency')"
   ]
  },
  {
   "cell_type": "markdown",
   "metadata": {},
   "source": [
    "#### Binomial Distribution\n",
    "A distribution true or false / success of failure\n",
    "Paramenters are : \n",
    "n = total number of trails.<br/> \n",
    "p = probability of sucess or failure<br/>\n",
    "<br/>\n",
    "Equation:<br/>\n",
    "![binomail equaton](https://res.cloudinary.com/dyd911kmh/image/upload/f_auto,q_auto:best/v1539784818/output_49_0_vajze8.png)\n",
    "<br/>\n",
    "Generation of discrete random variables"
   ]
  },
  {
   "cell_type": "code",
   "execution_count": 97,
   "metadata": {},
   "outputs": [
    {
     "data": {
      "text/plain": [
       "[Text(0, 0.5, 'Frequency'), Text(0.5, 0, 'Binomial Distribution')]"
      ]
     },
     "execution_count": 97,
     "metadata": {},
     "output_type": "execute_result"
    },
    {
     "data": {
      "image/png": "[encoded data removed]",
      "text/plain": [
       "<Figure size 432x288 with 1 Axes>"
      ]
     },
     "metadata": {
      "needs_background": "light"
     },
     "output_type": "display_data"
    }
   ],
   "source": [
    "data_binom = ss.binom.rvs(n=10, p=0.8,size=10000)\n",
    "ax = sns.distplot(data_binom,\n",
    "                  kde=False,\n",
    "                  color='skyblue',\n",
    "                  hist_kws={\"linewidth\": 15,'alpha':1})\n",
    "ax.set(xlabel='Binomial Distribution', ylabel='Frequency')"
   ]
  },
  {
   "cell_type": "markdown",
   "metadata": {},
   "source": [
    "Probability of success was greater than 0.5 the distribution is skewed towards the right side. Also, poisson distribution is a limiting case of a binomial distribution under the following conditions:\n",
    "\n",
    "The number of trials is indefinitely large or n→∞.\n",
    "The probability of success for each trial is same and indefinitely small or p→0.\n",
    "np=λ, is finite.\n",
    "Normal distribution is another limiting form of binomial distribution under the following conditions:\n",
    "\n",
    "The number of trials is indefinitely large, n→∞.\n",
    "Both p and q are not indefinitely small.\n",
    "https://www.datacamp.com/community/tutorials/probability-distributions-python"
   ]
  },
  {
   "cell_type": "markdown",
   "metadata": {},
   "source": [
    "#### Bernoulli distribution\n",
    "This distribution could be call a binary distribution, because there is only 2 possible outcomes 1 for success and 0 for failure.<br/>\n",
    "X = can have the value 1 and p or 1 - p<br/>\n",
    "P = the probability of success <br/>\n",
    "1 - p = the probability of failure <br/>\n",
    "n = nnumber of trails<br/>\n",
    "In Bernoulli the n = 1<br/>\n",
    "Probability mass function is :<br/>\n",
    "![PMF](https://res.cloudinary.com/dyd911kmh/image/upload/f_auto,q_auto:best/v1539784819/output_56_0_w8z8gb.png)\n"
   ]
  },
  {
   "cell_type": "code",
   "execution_count": 98,
   "metadata": {},
   "outputs": [],
   "source": [
    "data_bern = ss.bernoulli.rvs(size=10000,p=0.6)\n"
   ]
  },
  {
   "cell_type": "code",
   "execution_count": 99,
   "metadata": {},
   "outputs": [
    {
     "data": {
      "text/plain": [
       "[Text(0, 0.5, 'Frequency'), Text(0.5, 0, 'Bernoulli Distribution')]"
      ]
     },
     "execution_count": 99,
     "metadata": {},
     "output_type": "execute_result"
    },
    {
     "data": {
      "image/png": "[encoded data removed]",
      "text/plain": [
       "<Figure size 432x288 with 1 Axes>"
      ]
     },
     "metadata": {
      "needs_background": "light"
     },
     "output_type": "display_data"
    }
   ],
   "source": [
    "#visualise the data\n",
    "ax= sns.distplot(data_bern,\n",
    "                 kde=False,\n",
    "                 color=\"skyblue\",\n",
    "                 hist_kws={\"linewidth\": 15,'alpha':1})\n",
    "ax.set(xlabel='Bernoulli Distribution', ylabel='Frequency')\n"
   ]
  },
  {
   "cell_type": "markdown",
   "metadata": {},
   "source": [
    "### The use of seeds in generating pseudorandom numbers \n",
    "THe function takes an integer value. When using this function in random libary. Seeding the a random generator will produce the same results. This is useful when running dev, test and production tests repateability.  "
   ]
  },
  {
   "cell_type": "code",
   "execution_count": 15,
   "metadata": {},
   "outputs": [
    {
     "name": "stdout",
     "output_type": "stream",
     "text": [
      "684\n",
      "684\n",
      "684\n",
      "684\n"
     ]
    }
   ],
   "source": [
    "np.random.seed(0)\n",
    "rns = np.random.randint(1000)\n",
    "print(rns)\n",
    "np.random.seed(0)\n",
    "rns = np.random.randint(1000)\n",
    "print(rns)\n",
    "np.random.seed(0)\n",
    "rns = np.random.randint(1000)\n",
    "print(rns)\n",
    "np.random.seed(0)\n",
    "rns = np.random.randint(1000)\n",
    "print(rns)"
   ]
  },
  {
   "cell_type": "code",
   "execution_count": 2,
   "metadata": {},
   "outputs": [],
   "source": [
    "rng = np.default_rng()\n",
    "vals = rng.standard_normal(10)\n",
    "more_vals = rng.standard_normal(10)"
   ]
  },
  {
   "cell_type": "markdown",
   "metadata": {},
   "source": [
    "### Conclusion"
   ]
  },
  {
   "cell_type": "markdown",
   "metadata": {},
   "source": [
    "### References\n",
    "1. https://en.wikipedia.org/wiki/NumPy\n",
    "2. https://numpy.org/doc/stable/user/whatisnumpy.html\n",
    "3. Charles R Harris; K. Jarrod Millman; Stéfan J. van der Walt; et al. (16 September 2020), \"Array programming with NumPy\" (PDF), Nature, 585 (7825), doi:10.1038/S41586-020-2649-2, PMID 32939066, Wikidata Q99413970"
   ]
  }
 ],
 "metadata": {
  "kernelspec": {
   "display_name": "Python 3",
   "language": "python",
   "name": "python3"
  },
  "language_info": {
   "codemirror_mode": {
    "name": "ipython",
    "version": 3
   },
   "file_extension": ".py",
   "mimetype": "text/x-python",
   "name": "python",
   "nbconvert_exporter": "python",
   "pygments_lexer": "ipython3",
   "version": "3.8.3"
  }
 },
 "nbformat": 4,
 "nbformat_minor": 4
}
